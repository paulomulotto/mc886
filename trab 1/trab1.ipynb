{
 "cells": [
  {
   "cell_type": "code",
   "execution_count": 30,
   "metadata": {},
   "outputs": [
    {
     "data": {
      "text/plain": [
       "array([[0., 0., 0., ..., 0., 0., 0.],\n",
       "       [0., 0., 0., ..., 0., 0., 0.],\n",
       "       [0., 0., 0., ..., 0., 0., 0.],\n",
       "       ...,\n",
       "       [0., 0., 0., ..., 0., 0., 0.],\n",
       "       [0., 0., 0., ..., 0., 0., 0.],\n",
       "       [0., 0., 0., ..., 0., 0., 0.]])"
      ]
     },
     "execution_count": 30,
     "metadata": {},
     "output_type": "execute_result"
    }
   ],
   "source": [
    "import pandas as pd\n",
    "import numpy as np\n",
    "\n",
    "\n",
    "# Calcula J\n",
    "# Recebe os parametros e os coeficiente e calcula o custo\n",
    "def calc_J():\n",
    "    \n",
    "    \n",
    "\n",
    "\n",
    "# Tratamento dos dados\n",
    "\n",
    "df = pd.read_csv('diamonds.csv')\n",
    "\n",
    "#Aplica Hot Enconding nas \"Categorical Variables\" \n",
    "df_encoding = pd.get_dummies(df)\n",
    "\n",
    "# Separa os dados em set de treino e set de test\n",
    "msk = np.random.rand(len(df_encoding)) < 0.8\n",
    "train = df_encoding[msk]\n",
    "test = df_encoding[~msk]\n",
    "\n",
    "\n",
    "\n",
    "theta = np.zeros(28) # Vetor de coeficientes\n",
    "data_matrix = train.values # Matrix de parametros\n",
    "\n",
    "\n",
    "\n"
   ]
  }
 ],
 "metadata": {
  "kernelspec": {
   "display_name": "Python 3",
   "language": "python",
   "name": "python3"
  },
  "language_info": {
   "codemirror_mode": {
    "name": "ipython",
    "version": 3
   },
   "file_extension": ".py",
   "mimetype": "text/x-python",
   "name": "python",
   "nbconvert_exporter": "python",
   "pygments_lexer": "ipython3",
   "version": "3.6.4"
  }
 },
 "nbformat": 4,
 "nbformat_minor": 2
}
